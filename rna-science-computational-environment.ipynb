{
 "cells": [
  {
   "cell_type": "markdown",
   "id": "e4b882e9",
   "metadata": {
    "papermill": {
     "duration": 0.007263,
     "end_time": "2023-11-03T19:43:06.074932",
     "exception": false,
     "start_time": "2023-11-03T19:43:06.067669",
     "status": "completed"
    },
    "tags": []
   },
   "source": [
    "# Setting up an RNA Science Environment"
   ]
  },
  {
   "cell_type": "markdown",
   "id": "c67e5338",
   "metadata": {
    "papermill": {
     "duration": 0.005201,
     "end_time": "2023-11-03T19:43:06.086858",
     "exception": false,
     "start_time": "2023-11-03T19:43:06.081657",
     "status": "completed"
    },
    "tags": []
   },
   "source": [
    "The computational biology field has a lot of helpful software packages for interacting with RNA sequences and experimental data. First, let's install `arnie`, a helpful utility library that simplifies interacting with various secondary structure prediction packages."
   ]
  },
  {
   "cell_type": "code",
   "execution_count": 1,
   "id": "9bbc5ee0",
   "metadata": {
    "execution": {
     "iopub.execute_input": "2023-11-03T19:43:06.099816Z",
     "iopub.status.busy": "2023-11-03T19:43:06.099093Z",
     "iopub.status.idle": "2023-11-03T19:43:19.221005Z",
     "shell.execute_reply": "2023-11-03T19:43:19.219862Z"
    },
    "papermill": {
     "duration": 13.131457,
     "end_time": "2023-11-03T19:43:19.223635",
     "exception": false,
     "start_time": "2023-11-03T19:43:06.092178",
     "status": "completed"
    },
    "tags": []
   },
   "outputs": [
    {
     "name": "stdout",
     "output_type": "stream",
     "text": [
      "Collecting arnie\r\n",
      "  Downloading arnie-0.1.5-py3-none-any.whl (39 kB)\r\n",
      "Requirement already satisfied: numpy>=1.15 in /opt/conda/lib/python3.10/site-packages (from arnie) (1.23.5)\r\n",
      "Requirement already satisfied: scipy>=1.5.0 in /opt/conda/lib/python3.10/site-packages (from arnie) (1.11.2)\r\n",
      "Installing collected packages: arnie\r\n",
      "Successfully installed arnie-0.1.5\r\n"
     ]
    }
   ],
   "source": [
    "!pip install arnie"
   ]
  },
  {
   "cell_type": "markdown",
   "id": "10c28c2f",
   "metadata": {
    "papermill": {
     "duration": 0.005303,
     "end_time": "2023-11-03T19:43:19.234700",
     "exception": false,
     "start_time": "2023-11-03T19:43:19.229397",
     "status": "completed"
    },
    "tags": []
   },
   "source": [
    "Arnie needs at least one secondary structure predictor, so let's install `EternaFold`. [Eternafold](https://www.nature.com/articles/s41592-022-01605-0) is a leading prediction package that was trained using sequences collected via the citizen science game [Eterna](http://eternagame.org). In fact, Eterna players provided many of the sequences in the data for this competition. "
   ]
  },
  {
   "cell_type": "code",
   "execution_count": 2,
   "id": "2f244697",
   "metadata": {
    "execution": {
     "iopub.execute_input": "2023-11-03T19:43:19.247901Z",
     "iopub.status.busy": "2023-11-03T19:43:19.247515Z",
     "iopub.status.idle": "2023-11-03T19:45:26.545163Z",
     "shell.execute_reply": "2023-11-03T19:45:26.543808Z"
    },
    "papermill": {
     "duration": 127.307596,
     "end_time": "2023-11-03T19:45:26.547904",
     "exception": false,
     "start_time": "2023-11-03T19:43:19.240308",
     "status": "completed"
    },
    "tags": []
   },
   "outputs": [
    {
     "name": "stdout",
     "output_type": "stream",
     "text": [
      "Retrieving notices: ...working... done\r\n",
      "Collecting package metadata (current_repodata.json): \\ \b\b| \b\b/ \b\b- \b\b\\ \b\b| \b\b/ \b\b- \b\b\\ \b\b| \b\b/ \b\b- \b\b\\ \b\b| \b\b/ \b\b- \b\b\\ \b\b| \b\b/ \b\b- \b\b\\ \b\b| \b\b/ \b\b- \b\b\\ \b\b| \b\b/ \b\b- \b\b\\ \b\b| \b\b/ \b\b- \b\b\\ \b\b| \b\b/ \b\b- \b\b\\ \b\b| \b\b/ \b\b- \b\b\\ \b\b| \b\b/ \b\b- \b\b\\ \b\b| \b\b/ \b\b- \b\b\\ \b\b| \b\b/ \b\b- \b\b\\ \b\b| \b\b/ \b\b- \b\b\\ \b\b| \b\b/ \b\b- \b\b\\ \b\b| \b\b/ \b\b- \b\b\\ \b\b| \b\b/ \b\b- \b\b\\ \b\b| \b\b/ \b\b- \b\b\\ \b\b| \b\b/ \b\b- \b\b\\ \b\b| \b\b/ \b\b- \b\b\\ \b\b| \b\b/ \b\b- \b\b\\ \b\b| \b\b/ \b\b- \b\b\\ \b\b| \b\b/ \b\b- \b\b\\ \b\b| \b\b/ \b\b- \b\b\\ \b\b| \b\b/ \b\b- \b\b\\ \b\b| \b\b/ \b\b- \b\b\\ \b\b| \b\b/ \b\b- \b\b\\ \b\b| \b\b/ \b\b- \b\b\\ \b\b| \b\b/ \b\b- \b\b\\ \b\b| \b\b/ \b\b- \b\b\\ \b\b| \b\b/ \b\b- \b\b\\ \b\b| \b\b/ \b\b- \b\b\\ \b\b| \b\b/ \b\b- \b\b\\ \b\b| \b\b/ \b\b- \b\b\\ \b\b| \b\b/ \b\b- \b\b\\ \b\b| \b\b/ \b\b- \b\b\\ \b\b| \b\b/ \b\b- \b\b\\ \b\b| \b\b/ \b\b- \b\b\\ \b\b| \b\b/ \b\b- \b\b\\ \b\b| \b\b/ \b\b- \b\b\\ \b\b| \b\b/ \b\b- \b\b\\ \b\b| \b\b/ \b\b- \b\b\\ \b\b| \b\b/ \b\b- \b\b\\ \b\b| \b\b/ \b\b- \b\b\\ \b\b| \b\b/ \b\b- \b\b\\ \b\b| \b\b/ \b\b- \b\b\\ \b\b| \b\b/ \b\b- \b\b\\ \b\b| \b\b/ \b\b- \b\b\\ \b\b| \b\b/ \b\b- \b\b\\ \b\b| \b\b/ \b\b- \b\b\\ \b\b| \b\b/ \b\b- \b\b\\ \b\b| \b\b/ \b\b- \b\b\\ \b\b| \b\b/ \b\b- \b\b\\ \b\b| \b\b/ \b\b- \b\b\\ \b\b| \b\b/ \b\b- \b\b\\ \b\b| \b\b/ \b\b- \b\b\\ \b\b| \b\b/ \b\b- \b\b\\ \b\b| \b\b/ \b\b- \b\b\\ \b\b| \b\b/ \b\b- \b\b\\ \b\b| \b\b/ \b\b- \b\b\\ \b\b| \b\b/ \b\b- \b\b\\ \b\b| \b\b/ \b\b- \b\b\\ \b\b| \b\b/ \b\b- \b\b\\ \b\b| \b\b/ \b\b- \b\b\\ \b\b| \b\b/ \b\b- \b\b\\ \b\b| \b\b/ \b\b- \b\b\\ \b\b| \b\b/ \b\b- \b\b\\ \b\b| \b\b/ \b\b- \b\b\\ \b\b| \b\b/ \b\b- \b\b\\ \b\b| \b\b/ \b\b- \b\b\\ \b\b| \b\b/ \b\b- \b\b\\ \b\b| \b\b/ \b\b- \b\b\\ \b\b| \b\b/ \b\b- \b\b\\ \b\b| \b\b/ \b\b- \b\b\\ \b\b| \b\b/ \b\b- \b\b\\ \b\b| \b\b/ \b\b- \b\b\\ \b\b| \b\b/ \b\b- \b\b\\ \b\b| \b\b/ \b\b- \b\b\\ \b\b| \b\b/ \b\b- \b\b\\ \b\b| \b\b/ \b\b- \b\b\\ \b\b| \b\b/ \b\b- \b\b\\ \b\b| \b\b/ \b\b- \b\b\\ \b\b| \b\b/ \b\b- \b\b\\ \b\b| \b\b/ \b\b- \b\b\\ \b\b| \b\b/ \b\b- \b\b\\ \b\b| \b\b/ \b\b- \b\b\\ \b\b| \b\b/ \b\b- \b\b\\ \b\b| \b\b/ \b\b- \b\b\\ \b\b| \b\b/ \b\b- \b\b\\ \b\b| \b\b/ \b\b- \b\b\\ \b\b| \b\b/ \b\b- \b\b\\ \b\b| \b\b/ \b\b- \b\b\\ \b\b| \b\b/ \b\b- \b\b\\ \b\b| \b\b/ \b\b- \b\b\\ \b\b| \b\b/ \b\b- \b\b\\ \b\b| \b\b/ \b\b- \b\b\\ \b\b| \b\b/ \b\b- \b\b\\ \b\b| \b\b/ \b\b- \b\b\\ \b\b| \b\b/ \b\b- \b\b\\ \b\b| \b\b/ \b\b- \b\b\\ \b\b| \b\b/ \b\b- \b\b\\ \b\b| \b\b/ \b\b- \b\b\\ \b\b| \b\b/ \b\b- \b\b\\ \b\b| \b\b/ \b\b- \b\bdone\r\n",
      "Solving environment: | \b\b/ \b\b- \b\b\\ \b\b| \b\b/ \b\b- \b\b\\ \b\b| \b\b/ \b\b- \b\b\\ \b\b| \b\b/ \b\b- \b\b\\ \b\b| \b\b/ \b\b- \b\b\\ \b\b| \b\b/ \b\b- \b\b\\ \b\b| \b\b/ \b\b- \b\b\\ \b\b| \b\b/ \b\b- \b\b\\ \b\b| \b\b/ \b\b- \b\b\\ \b\b| \b\b/ \b\b- \b\b\\ \b\b| \b\b/ \b\b- \b\b\\ \b\b| \b\b/ \b\b- \b\b\\ \b\b| \b\b/ \b\b- \b\b\\ \b\b| \b\b/ \b\b- \b\b\\ \b\b| \b\b/ \b\b- \b\b\\ \b\b| \b\b/ \b\b- \b\b\\ \b\b| \b\b/ \b\b- \b\b\\ \b\b| \b\b/ \b\b- \b\b\\ \b\b| \b\b/ \b\b- \b\b\\ \b\b| \b\b/ \b\b- \b\b\\ \b\b| \b\b/ \b\b- \b\b\\ \b\b| \b\b/ \b\b- \b\b\\ \b\b| \b\b/ \b\b- \b\b\\ \b\b| \b\b/ \b\b- \b\b\\ \b\b| \b\b/ \b\b- \b\b\\ \b\b| \b\b/ \b\b- \b\b\\ \b\b| \b\b/ \b\b- \b\b\\ \b\b| \b\b/ \b\b- \b\b\\ \b\b| \b\b/ \b\b- \b\b\\ \b\b| \b\b/ \b\b- \b\b\\ \b\b| \b\b/ \b\b- \b\b\\ \b\b| \b\b/ \b\b- \b\b\\ \b\b| \b\b/ \b\b- \b\b\\ \b\b| \b\b/ \b\b- \b\b\\ \b\b| \b\b/ \b\b- \b\b\\ \b\b| \b\b/ \b\b- \b\b\\ \b\b| \b\b/ \b\b- \b\b\\ \b\b| \b\b/ \b\b- \b\b\\ \b\b| \b\b/ \b\b- \b\b\\ \b\b| \b\b/ \b\b- \b\b\\ \b\b| \b\b/ \b\b- \b\b\\ \b\b| \b\bdone\r\n",
      "\r\n",
      "\r\n",
      "==> WARNING: A newer version of conda exists. <==\r\n",
      "  current version: 23.7.3\r\n",
      "  latest version: 23.9.0\r\n",
      "\r\n",
      "Please update conda by running\r\n",
      "\r\n",
      "    $ conda update -n base -c conda-forge conda\r\n",
      "\r\n",
      "Or to minimize the number of packages updated during conda update use\r\n",
      "\r\n",
      "     conda install conda=23.9.0\r\n",
      "\r\n",
      "\r\n",
      "\r\n",
      "## Package Plan ##\r\n",
      "\r\n",
      "  environment location: /opt/conda\r\n",
      "\r\n",
      "  added / updated specs:\r\n",
      "    - eternafold\r\n",
      "\r\n",
      "\r\n",
      "The following packages will be downloaded:\r\n",
      "\r\n",
      "    package                    |            build\r\n",
      "    ---------------------------|-----------------\r\n",
      "    eternafold-1.3.1           |       h4ac6f70_0        17.6 MB  bioconda\r\n",
      "    openssl-3.1.4              |       hd590300_0         2.5 MB  conda-forge\r\n",
      "    ------------------------------------------------------------\r\n",
      "                                           Total:        20.1 MB\r\n",
      "\r\n",
      "The following NEW packages will be INSTALLED:\r\n",
      "\r\n",
      "  eternafold         bioconda/linux-64::eternafold-1.3.1-h4ac6f70_0 \r\n",
      "\r\n",
      "The following packages will be UPDATED:\r\n",
      "\r\n",
      "  openssl                                  3.1.2-hd590300_0 --> 3.1.4-hd590300_0 \r\n",
      "\r\n",
      "\r\n",
      "\r\n",
      "Downloading and Extracting Packages\r\n",
      "openssl-3.1.4        | 2.5 MB    |                                       |   0% \r\n",
      "openssl-3.1.4        | 2.5 MB    | #############9                        |  38% \r\n",
      "eternafold-1.3.1     | 17.6 MB   | ##1                                   |   6% \u001b[A\r\n",
      "openssl-3.1.4        | 2.5 MB    | ##################################### | 100% \r\n",
      "eternafold-1.3.1     | 17.6 MB   | ##################################### | 100% \u001b[A\r\n",
      "\r\n",
      "\r\n",
      "Preparing transaction: - \b\bdone\r\n",
      "Verifying transaction: | \b\b/ \b\b- \b\bdone\r\n",
      "Executing transaction: | \b\b/ \b\b- \b\b\\ \b\b| \b\b/ \b\b- \b\b\\ \b\b| \b\b/ \b\b- \b\b\\ \b\bdone\r\n"
     ]
    }
   ],
   "source": [
    "# Install Eternafold\n",
    "!conda config --set auto_update_conda false\n",
    "!conda install -c bioconda eternafold --yes"
   ]
  },
  {
   "cell_type": "markdown",
   "id": "a23aaffa",
   "metadata": {
    "papermill": {
     "duration": 0.040542,
     "end_time": "2023-11-03T19:45:26.629350",
     "exception": false,
     "start_time": "2023-11-03T19:45:26.588808",
     "status": "completed"
    },
    "tags": []
   },
   "source": [
    "Ordinarily, the `EternaFold` conda package will automatically set necessary environment variables, but Kaggle's conda install works a little differently. Let's set them manually here using `%env`."
   ]
  },
  {
   "cell_type": "code",
   "execution_count": 3,
   "id": "3a57dc11",
   "metadata": {
    "execution": {
     "iopub.execute_input": "2023-11-03T19:45:26.776264Z",
     "iopub.status.busy": "2023-11-03T19:45:26.775044Z",
     "iopub.status.idle": "2023-11-03T19:45:26.786613Z",
     "shell.execute_reply": "2023-11-03T19:45:26.784239Z"
    },
    "papermill": {
     "duration": 0.118805,
     "end_time": "2023-11-03T19:45:26.789163",
     "exception": false,
     "start_time": "2023-11-03T19:45:26.670358",
     "status": "completed"
    },
    "tags": []
   },
   "outputs": [
    {
     "name": "stdout",
     "output_type": "stream",
     "text": [
      "env: ETERNAFOLD_PATH=/opt/conda/bin/eternafold-bin\n",
      "env: ETERNAFOLD_PARAMETERS=/opt/conda/lib/eternafold-lib/parameters/EternaFoldParams.v1\n"
     ]
    }
   ],
   "source": [
    "%env ETERNAFOLD_PATH=/opt/conda/bin/eternafold-bin\n",
    "%env ETERNAFOLD_PARAMETERS=/opt/conda/lib/eternafold-lib/parameters/EternaFoldParams.v1"
   ]
  },
  {
   "cell_type": "markdown",
   "id": "0fe63111",
   "metadata": {
    "papermill": {
     "duration": 0.041963,
     "end_time": "2023-11-03T19:45:26.877473",
     "exception": false,
     "start_time": "2023-11-03T19:45:26.835510",
     "status": "completed"
    },
    "tags": []
   },
   "source": [
    "Now that we have a predictor, we can make structure predictions about a given sequence. For example, let's look at an example Hammerhead ribozyme sequence. We can use arnie's `mfe`, or Minimum Free Energy, function to predict a secondary structure for this RNA sequence. The structure will be represented in \"dot-bracket\" notation, where `.` is an unpaired base and `()` represent two paired bases."
   ]
  },
  {
   "cell_type": "code",
   "execution_count": 4,
   "id": "1c6c7067",
   "metadata": {
    "execution": {
     "iopub.execute_input": "2023-11-03T19:45:26.963073Z",
     "iopub.status.busy": "2023-11-03T19:45:26.962708Z",
     "iopub.status.idle": "2023-11-03T19:45:26.986046Z",
     "shell.execute_reply": "2023-11-03T19:45:26.984965Z"
    },
    "papermill": {
     "duration": 0.068595,
     "end_time": "2023-11-03T19:45:26.988281",
     "exception": false,
     "start_time": "2023-11-03T19:45:26.919686",
     "status": "completed"
    },
    "tags": []
   },
   "outputs": [
    {
     "name": "stdout",
     "output_type": "stream",
     "text": [
      "(((((((((((((......))))))..)....((((.....))))...))))))\n"
     ]
    }
   ],
   "source": [
    "from arnie.mfe import mfe\n",
    "sequence = \"CGCUGUCUGUACUUGUAUCAGUACACUGACGAGUCCCUAAAGGACGAAACAGCG\"\n",
    "structure = mfe(sequence, package=\"eternafold\")\n",
    "print(structure)"
   ]
  },
  {
   "cell_type": "markdown",
   "id": "971cebaf",
   "metadata": {
    "papermill": {
     "duration": 0.042496,
     "end_time": "2023-11-03T19:45:27.073396",
     "exception": false,
     "start_time": "2023-11-03T19:45:27.030900",
     "status": "completed"
    },
    "tags": []
   },
   "source": [
    "Dot bracket notation can be a little hard to read if you're new to RNA structures. Let's visualize the structure in another way. We're going to install `draw_rna`, a Das Lab tool that let's us plot RNA structures in 2D. `draw_rna` provides a `draw_struct` function that "
   ]
  },
  {
   "cell_type": "code",
   "execution_count": 5,
   "id": "b68934d7",
   "metadata": {
    "execution": {
     "iopub.execute_input": "2023-11-03T19:45:27.159567Z",
     "iopub.status.busy": "2023-11-03T19:45:27.158413Z",
     "iopub.status.idle": "2023-11-03T19:45:40.787365Z",
     "shell.execute_reply": "2023-11-03T19:45:40.786024Z"
    },
    "papermill": {
     "duration": 13.674908,
     "end_time": "2023-11-03T19:45:40.789806",
     "exception": false,
     "start_time": "2023-11-03T19:45:27.114898",
     "status": "completed"
    },
    "tags": []
   },
   "outputs": [
    {
     "name": "stdout",
     "output_type": "stream",
     "text": [
      "Collecting draw_rna\r\n",
      "  Downloading draw_rna-0.1.0-py3-none-any.whl (17 kB)\r\n",
      "Collecting argparse>=1.4 (from draw_rna)\r\n",
      "  Downloading argparse-1.4.0-py2.py3-none-any.whl (23 kB)\r\n",
      "Requirement already satisfied: numpy>=1.15 in /opt/conda/lib/python3.10/site-packages (from draw_rna) (1.23.5)\r\n",
      "Requirement already satisfied: matplotlib>=3.2 in /opt/conda/lib/python3.10/site-packages (from draw_rna) (3.7.2)\r\n",
      "Collecting rdat-kit>=1.6 (from draw_rna)\r\n",
      "  Downloading rdat_kit-1.6.2-py3-none-any.whl (15 kB)\r\n",
      "Requirement already satisfied: contourpy>=1.0.1 in /opt/conda/lib/python3.10/site-packages (from matplotlib>=3.2->draw_rna) (1.1.0)\r\n",
      "Requirement already satisfied: cycler>=0.10 in /opt/conda/lib/python3.10/site-packages (from matplotlib>=3.2->draw_rna) (0.11.0)\r\n",
      "Requirement already satisfied: fonttools>=4.22.0 in /opt/conda/lib/python3.10/site-packages (from matplotlib>=3.2->draw_rna) (4.40.0)\r\n",
      "Requirement already satisfied: kiwisolver>=1.0.1 in /opt/conda/lib/python3.10/site-packages (from matplotlib>=3.2->draw_rna) (1.4.4)\r\n",
      "Requirement already satisfied: packaging>=20.0 in /opt/conda/lib/python3.10/site-packages (from matplotlib>=3.2->draw_rna) (21.3)\r\n",
      "Requirement already satisfied: pillow>=6.2.0 in /opt/conda/lib/python3.10/site-packages (from matplotlib>=3.2->draw_rna) (9.5.0)\r\n",
      "Requirement already satisfied: pyparsing<3.1,>=2.3.1 in /opt/conda/lib/python3.10/site-packages (from matplotlib>=3.2->draw_rna) (3.0.9)\r\n",
      "Requirement already satisfied: python-dateutil>=2.7 in /opt/conda/lib/python3.10/site-packages (from matplotlib>=3.2->draw_rna) (2.8.2)\r\n",
      "Collecting xlwt (from rdat-kit>=1.6->draw_rna)\r\n",
      "  Downloading xlwt-1.3.0-py2.py3-none-any.whl (99 kB)\r\n",
      "\u001b[2K     \u001b[90m━━━━━━━━━━━━━━━━━━━━━━━━━━━━━━━━━━━━━━━\u001b[0m \u001b[32m100.0/100.0 kB\u001b[0m \u001b[31m4.8 MB/s\u001b[0m eta \u001b[36m0:00:00\u001b[0m\r\n",
      "\u001b[?25hCollecting xlrd (from rdat-kit>=1.6->draw_rna)\r\n",
      "  Downloading xlrd-2.0.1-py2.py3-none-any.whl (96 kB)\r\n",
      "\u001b[2K     \u001b[90m━━━━━━━━━━━━━━━━━━━━━━━━━━━━━━━━━━━━━━━━\u001b[0m \u001b[32m96.5/96.5 kB\u001b[0m \u001b[31m9.7 MB/s\u001b[0m eta \u001b[36m0:00:00\u001b[0m\r\n",
      "\u001b[?25hRequirement already satisfied: six>=1.5 in /opt/conda/lib/python3.10/site-packages (from python-dateutil>=2.7->matplotlib>=3.2->draw_rna) (1.16.0)\r\n",
      "Installing collected packages: xlwt, argparse, xlrd, rdat-kit, draw_rna\r\n",
      "Successfully installed argparse-1.4.0 draw_rna-0.1.0 rdat-kit-1.6.2 xlrd-2.0.1 xlwt-1.3.0\r\n"
     ]
    },
    {
     "data": {
      "image/png": "[encoded data removed]",
      "text/plain": [
       "<Figure size 579.441x579.441 with 1 Axes>"
      ]
     },
     "metadata": {},
     "output_type": "display_data"
    }
   ],
   "source": [
    "!pip install draw_rna\n",
    "\n",
    "from draw_rna.ipynb_draw import draw_struct\n",
    "draw_struct(sequence, structure)"
   ]
  },
  {
   "cell_type": "markdown",
   "id": "017be143",
   "metadata": {
    "papermill": {
     "duration": 0.043752,
     "end_time": "2023-11-03T19:45:40.877513",
     "exception": false,
     "start_time": "2023-11-03T19:45:40.833761",
     "status": "completed"
    },
    "tags": []
   },
   "source": [
    "Arnie provides other functions for structure prediction. We can generate a 'Base Pair Probablility' matrix that predicts the probability of every possible base pairing (e.g, how likely is base 1 to pair with base 2, base 3, base 4...). "
   ]
  },
  {
   "cell_type": "code",
   "execution_count": 6,
   "id": "3c638557",
   "metadata": {
    "execution": {
     "iopub.execute_input": "2023-11-03T19:45:40.968709Z",
     "iopub.status.busy": "2023-11-03T19:45:40.968293Z",
     "iopub.status.idle": "2023-11-03T19:45:40.989622Z",
     "shell.execute_reply": "2023-11-03T19:45:40.988599Z"
    },
    "papermill": {
     "duration": 0.069966,
     "end_time": "2023-11-03T19:45:40.992047",
     "exception": false,
     "start_time": "2023-11-03T19:45:40.922081",
     "status": "completed"
    },
    "tags": []
   },
   "outputs": [
    {
     "data": {
      "text/plain": [
       "array([[0.00000e+00, 0.00000e+00, 0.00000e+00, ..., 6.74974e-04,\n",
       "        0.00000e+00, 8.15493e-01],\n",
       "       [0.00000e+00, 0.00000e+00, 0.00000e+00, ..., 0.00000e+00,\n",
       "        9.13047e-01, 0.00000e+00],\n",
       "       [0.00000e+00, 0.00000e+00, 0.00000e+00, ..., 9.13480e-01,\n",
       "        0.00000e+00, 5.61778e-04],\n",
       "       ...,\n",
       "       [6.74974e-04, 0.00000e+00, 9.13480e-01, ..., 0.00000e+00,\n",
       "        0.00000e+00, 0.00000e+00],\n",
       "       [0.00000e+00, 9.13047e-01, 0.00000e+00, ..., 0.00000e+00,\n",
       "        0.00000e+00, 0.00000e+00],\n",
       "       [8.15493e-01, 0.00000e+00, 5.61778e-04, ..., 0.00000e+00,\n",
       "        0.00000e+00, 0.00000e+00]])"
      ]
     },
     "execution_count": 6,
     "metadata": {},
     "output_type": "execute_result"
    }
   ],
   "source": [
    "from arnie.bpps import bpps\n",
    "bpps(sequence, package=\"eternafold\")"
   ]
  },
  {
   "cell_type": "markdown",
   "id": "b1e8fa64",
   "metadata": {
    "papermill": {
     "duration": 0.044041,
     "end_time": "2023-11-03T19:45:41.080102",
     "exception": false,
     "start_time": "2023-11-03T19:45:41.036061",
     "status": "completed"
    },
    "tags": []
   },
   "source": [
    "# Modeling"
   ]
  },
  {
   "cell_type": "markdown",
   "id": "fd0467b7",
   "metadata": {
    "papermill": {
     "duration": 0.04296,
     "end_time": "2023-11-03T19:45:41.166288",
     "exception": false,
     "start_time": "2023-11-03T19:45:41.123328",
     "status": "completed"
    },
    "tags": []
   },
   "source": [
    "## Prepare Dataset"
   ]
  },
  {
   "cell_type": "code",
   "execution_count": 7,
   "id": "c0d8c29b",
   "metadata": {
    "execution": {
     "iopub.execute_input": "2023-11-03T19:45:41.255283Z",
     "iopub.status.busy": "2023-11-03T19:45:41.254881Z",
     "iopub.status.idle": "2023-11-03T19:45:41.632362Z",
     "shell.execute_reply": "2023-11-03T19:45:41.630850Z"
    },
    "papermill": {
     "duration": 0.425175,
     "end_time": "2023-11-03T19:45:41.635558",
     "exception": false,
     "start_time": "2023-11-03T19:45:41.210383",
     "status": "completed"
    },
    "tags": []
   },
   "outputs": [],
   "source": [
    "import pandas as pd"
   ]
  },
  {
   "cell_type": "code",
   "execution_count": 8,
   "id": "152e75a3",
   "metadata": {
    "execution": {
     "iopub.execute_input": "2023-11-03T19:45:41.725436Z",
     "iopub.status.busy": "2023-11-03T19:45:41.724896Z",
     "iopub.status.idle": "2023-11-03T19:45:41.729664Z",
     "shell.execute_reply": "2023-11-03T19:45:41.728565Z"
    },
    "papermill": {
     "duration": 0.052005,
     "end_time": "2023-11-03T19:45:41.731919",
     "exception": false,
     "start_time": "2023-11-03T19:45:41.679914",
     "status": "completed"
    },
    "tags": []
   },
   "outputs": [],
   "source": [
    "train_path = r'/kaggle/input/stanford-ribonanza-rna-folding/train_data_QUICK_START.csv'"
   ]
  },
  {
   "cell_type": "code",
   "execution_count": 9,
   "id": "1022e38e",
   "metadata": {
    "execution": {
     "iopub.execute_input": "2023-11-03T19:45:41.821755Z",
     "iopub.status.busy": "2023-11-03T19:45:41.821373Z",
     "iopub.status.idle": "2023-11-03T19:46:01.775141Z",
     "shell.execute_reply": "2023-11-03T19:46:01.774019Z"
    },
    "papermill": {
     "duration": 20.002333,
     "end_time": "2023-11-03T19:46:01.778274",
     "exception": false,
     "start_time": "2023-11-03T19:45:41.775941",
     "status": "completed"
    },
    "tags": []
   },
   "outputs": [],
   "source": [
    "train_df = pd.read_csv(train_path)"
   ]
  },
  {
   "cell_type": "code",
   "execution_count": 10,
   "id": "44e05d0c",
   "metadata": {
    "execution": {
     "iopub.execute_input": "2023-11-03T19:46:01.868583Z",
     "iopub.status.busy": "2023-11-03T19:46:01.868180Z",
     "iopub.status.idle": "2023-11-03T19:46:01.908542Z",
     "shell.execute_reply": "2023-11-03T19:46:01.907272Z"
    },
    "papermill": {
     "duration": 0.08751,
     "end_time": "2023-11-03T19:46:01.910918",
     "exception": false,
     "start_time": "2023-11-03T19:46:01.823408",
     "status": "completed"
    },
    "tags": []
   },
   "outputs": [
    {
     "data": {
      "text/html": [
       "<div>\n",
       "<style scoped>\n",
       "    .dataframe tbody tr th:only-of-type {\n",
       "        vertical-align: middle;\n",
       "    }\n",
       "\n",
       "    .dataframe tbody tr th {\n",
       "        vertical-align: top;\n",
       "    }\n",
       "\n",
       "    .dataframe thead th {\n",
       "        text-align: right;\n",
       "    }\n",
       "</style>\n",
       "<table border=\"1\" class=\"dataframe\">\n",
       "  <thead>\n",
       "    <tr style=\"text-align: right;\">\n",
       "      <th></th>\n",
       "      <th>sequence_id</th>\n",
       "      <th>sequence</th>\n",
       "      <th>experiment_type</th>\n",
       "      <th>dataset_name</th>\n",
       "      <th>reactivity_0001</th>\n",
       "      <th>reactivity_0002</th>\n",
       "      <th>reactivity_0003</th>\n",
       "      <th>reactivity_0004</th>\n",
       "      <th>reactivity_0005</th>\n",
       "      <th>reactivity_0006</th>\n",
       "      <th>...</th>\n",
       "      <th>reactivity_error_0197</th>\n",
       "      <th>reactivity_error_0198</th>\n",
       "      <th>reactivity_error_0199</th>\n",
       "      <th>reactivity_error_0200</th>\n",
       "      <th>reactivity_error_0201</th>\n",
       "      <th>reactivity_error_0202</th>\n",
       "      <th>reactivity_error_0203</th>\n",
       "      <th>reactivity_error_0204</th>\n",
       "      <th>reactivity_error_0205</th>\n",
       "      <th>reactivity_error_0206</th>\n",
       "    </tr>\n",
       "  </thead>\n",
       "  <tbody>\n",
       "    <tr>\n",
       "      <th>0</th>\n",
       "      <td>0000d87cab97</td>\n",
       "      <td>GGGAACGACUCGAGUAGAGUCGAAAAAGAUCGCCACGCACUUACGA...</td>\n",
       "      <td>2A3_MaP</td>\n",
       "      <td>DasLabBigLib_OneMil_RFAM_windows_100mers_2A3</td>\n",
       "      <td>NaN</td>\n",
       "      <td>NaN</td>\n",
       "      <td>NaN</td>\n",
       "      <td>NaN</td>\n",
       "      <td>NaN</td>\n",
       "      <td>NaN</td>\n",
       "      <td>...</td>\n",
       "      <td>NaN</td>\n",
       "      <td>NaN</td>\n",
       "      <td>NaN</td>\n",
       "      <td>NaN</td>\n",
       "      <td>NaN</td>\n",
       "      <td>NaN</td>\n",
       "      <td>NaN</td>\n",
       "      <td>NaN</td>\n",
       "      <td>NaN</td>\n",
       "      <td>NaN</td>\n",
       "    </tr>\n",
       "    <tr>\n",
       "      <th>1</th>\n",
       "      <td>0000d87cab97</td>\n",
       "      <td>GGGAACGACUCGAGUAGAGUCGAAAAAGAUCGCCACGCACUUACGA...</td>\n",
       "      <td>DMS_MaP</td>\n",
       "      <td>DasLabBigLib_OneMil_RFAM_windows_100mers_DMS</td>\n",
       "      <td>NaN</td>\n",
       "      <td>NaN</td>\n",
       "      <td>NaN</td>\n",
       "      <td>NaN</td>\n",
       "      <td>NaN</td>\n",
       "      <td>NaN</td>\n",
       "      <td>...</td>\n",
       "      <td>NaN</td>\n",
       "      <td>NaN</td>\n",
       "      <td>NaN</td>\n",
       "      <td>NaN</td>\n",
       "      <td>NaN</td>\n",
       "      <td>NaN</td>\n",
       "      <td>NaN</td>\n",
       "      <td>NaN</td>\n",
       "      <td>NaN</td>\n",
       "      <td>NaN</td>\n",
       "    </tr>\n",
       "    <tr>\n",
       "      <th>2</th>\n",
       "      <td>0001ca9d21b0</td>\n",
       "      <td>GGGAACGACUCGAGUAGAGUCGAAAAGGUGGCCGGCAGAAUCGCGA...</td>\n",
       "      <td>2A3_MaP</td>\n",
       "      <td>DasLabBigLib_OneMil_OpenKnot_Round_2_train_2A3</td>\n",
       "      <td>NaN</td>\n",
       "      <td>NaN</td>\n",
       "      <td>NaN</td>\n",
       "      <td>NaN</td>\n",
       "      <td>NaN</td>\n",
       "      <td>NaN</td>\n",
       "      <td>...</td>\n",
       "      <td>NaN</td>\n",
       "      <td>NaN</td>\n",
       "      <td>NaN</td>\n",
       "      <td>NaN</td>\n",
       "      <td>NaN</td>\n",
       "      <td>NaN</td>\n",
       "      <td>NaN</td>\n",
       "      <td>NaN</td>\n",
       "      <td>NaN</td>\n",
       "      <td>NaN</td>\n",
       "    </tr>\n",
       "    <tr>\n",
       "      <th>3</th>\n",
       "      <td>0001ca9d21b0</td>\n",
       "      <td>GGGAACGACUCGAGUAGAGUCGAAAAGGUGGCCGGCAGAAUCGCGA...</td>\n",
       "      <td>DMS_MaP</td>\n",
       "      <td>DasLabBigLib_OneMil_OpenKnot_Round_2_train_DMS</td>\n",
       "      <td>NaN</td>\n",
       "      <td>NaN</td>\n",
       "      <td>NaN</td>\n",
       "      <td>NaN</td>\n",
       "      <td>NaN</td>\n",
       "      <td>NaN</td>\n",
       "      <td>...</td>\n",
       "      <td>NaN</td>\n",
       "      <td>NaN</td>\n",
       "      <td>NaN</td>\n",
       "      <td>NaN</td>\n",
       "      <td>NaN</td>\n",
       "      <td>NaN</td>\n",
       "      <td>NaN</td>\n",
       "      <td>NaN</td>\n",
       "      <td>NaN</td>\n",
       "      <td>NaN</td>\n",
       "    </tr>\n",
       "    <tr>\n",
       "      <th>4</th>\n",
       "      <td>00021f968267</td>\n",
       "      <td>GGGAACGACUCGAGUAGAGUCGAAAACAUUGUUAAUGCCUAUAUUA...</td>\n",
       "      <td>2A3_MaP</td>\n",
       "      <td>DasLabBigLib_OneMil_Replicates_from_previous_l...</td>\n",
       "      <td>NaN</td>\n",
       "      <td>NaN</td>\n",
       "      <td>NaN</td>\n",
       "      <td>NaN</td>\n",
       "      <td>NaN</td>\n",
       "      <td>NaN</td>\n",
       "      <td>...</td>\n",
       "      <td>NaN</td>\n",
       "      <td>NaN</td>\n",
       "      <td>NaN</td>\n",
       "      <td>NaN</td>\n",
       "      <td>NaN</td>\n",
       "      <td>NaN</td>\n",
       "      <td>NaN</td>\n",
       "      <td>NaN</td>\n",
       "      <td>NaN</td>\n",
       "      <td>NaN</td>\n",
       "    </tr>\n",
       "  </tbody>\n",
       "</table>\n",
       "<p>5 rows × 416 columns</p>\n",
       "</div>"
      ],
      "text/plain": [
       "    sequence_id                                           sequence  \\\n",
       "0  0000d87cab97  GGGAACGACUCGAGUAGAGUCGAAAAAGAUCGCCACGCACUUACGA...   \n",
       "1  0000d87cab97  GGGAACGACUCGAGUAGAGUCGAAAAAGAUCGCCACGCACUUACGA...   \n",
       "2  0001ca9d21b0  GGGAACGACUCGAGUAGAGUCGAAAAGGUGGCCGGCAGAAUCGCGA...   \n",
       "3  0001ca9d21b0  GGGAACGACUCGAGUAGAGUCGAAAAGGUGGCCGGCAGAAUCGCGA...   \n",
       "4  00021f968267  GGGAACGACUCGAGUAGAGUCGAAAACAUUGUUAAUGCCUAUAUUA...   \n",
       "\n",
       "  experiment_type                                       dataset_name  \\\n",
       "0         2A3_MaP       DasLabBigLib_OneMil_RFAM_windows_100mers_2A3   \n",
       "1         DMS_MaP       DasLabBigLib_OneMil_RFAM_windows_100mers_DMS   \n",
       "2         2A3_MaP     DasLabBigLib_OneMil_OpenKnot_Round_2_train_2A3   \n",
       "3         DMS_MaP     DasLabBigLib_OneMil_OpenKnot_Round_2_train_DMS   \n",
       "4         2A3_MaP  DasLabBigLib_OneMil_Replicates_from_previous_l...   \n",
       "\n",
       "   reactivity_0001  reactivity_0002  reactivity_0003  reactivity_0004  \\\n",
       "0              NaN              NaN              NaN              NaN   \n",
       "1              NaN              NaN              NaN              NaN   \n",
       "2              NaN              NaN              NaN              NaN   \n",
       "3              NaN              NaN              NaN              NaN   \n",
       "4              NaN              NaN              NaN              NaN   \n",
       "\n",
       "   reactivity_0005  reactivity_0006  ...  reactivity_error_0197  \\\n",
       "0              NaN              NaN  ...                    NaN   \n",
       "1              NaN              NaN  ...                    NaN   \n",
       "2              NaN              NaN  ...                    NaN   \n",
       "3              NaN              NaN  ...                    NaN   \n",
       "4              NaN              NaN  ...                    NaN   \n",
       "\n",
       "   reactivity_error_0198  reactivity_error_0199  reactivity_error_0200  \\\n",
       "0                    NaN                    NaN                    NaN   \n",
       "1                    NaN                    NaN                    NaN   \n",
       "2                    NaN                    NaN                    NaN   \n",
       "3                    NaN                    NaN                    NaN   \n",
       "4                    NaN                    NaN                    NaN   \n",
       "\n",
       "   reactivity_error_0201  reactivity_error_0202  reactivity_error_0203  \\\n",
       "0                    NaN                    NaN                    NaN   \n",
       "1                    NaN                    NaN                    NaN   \n",
       "2                    NaN                    NaN                    NaN   \n",
       "3                    NaN                    NaN                    NaN   \n",
       "4                    NaN                    NaN                    NaN   \n",
       "\n",
       "   reactivity_error_0204  reactivity_error_0205  reactivity_error_0206  \n",
       "0                    NaN                    NaN                    NaN  \n",
       "1                    NaN                    NaN                    NaN  \n",
       "2                    NaN                    NaN                    NaN  \n",
       "3                    NaN                    NaN                    NaN  \n",
       "4                    NaN                    NaN                    NaN  \n",
       "\n",
       "[5 rows x 416 columns]"
      ]
     },
     "execution_count": 10,
     "metadata": {},
     "output_type": "execute_result"
    }
   ],
   "source": [
    "train_df.head()"
   ]
  },
  {
   "cell_type": "code",
   "execution_count": 11,
   "id": "e53f40f4",
   "metadata": {
    "execution": {
     "iopub.execute_input": "2023-11-03T19:46:02.000032Z",
     "iopub.status.busy": "2023-11-03T19:46:01.999639Z",
     "iopub.status.idle": "2023-11-03T19:46:04.697937Z",
     "shell.execute_reply": "2023-11-03T19:46:04.696803Z"
    },
    "papermill": {
     "duration": 2.746055,
     "end_time": "2023-11-03T19:46:04.700614",
     "exception": false,
     "start_time": "2023-11-03T19:46:01.954559",
     "status": "completed"
    },
    "tags": []
   },
   "outputs": [],
   "source": [
    "from sklearn.model_selection import train_test_split\n",
    "\n",
    "train, val = train_test_split(train_df, test_size=0.2, random_state=283)"
   ]
  },
  {
   "cell_type": "code",
   "execution_count": 12,
   "id": "dcbc6b8d",
   "metadata": {
    "execution": {
     "iopub.execute_input": "2023-11-03T19:46:04.791472Z",
     "iopub.status.busy": "2023-11-03T19:46:04.791024Z",
     "iopub.status.idle": "2023-11-03T19:46:08.139390Z",
     "shell.execute_reply": "2023-11-03T19:46:08.138225Z"
    },
    "papermill": {
     "duration": 3.397054,
     "end_time": "2023-11-03T19:46:08.142022",
     "exception": false,
     "start_time": "2023-11-03T19:46:04.744968",
     "status": "completed"
    },
    "tags": []
   },
   "outputs": [],
   "source": [
    "import torch\n",
    "from torch.utils.data import Dataset, DataLoader\n",
    "\n",
    "class RNADataset(Dataset):\n",
    "    def __init__(self, df):\n",
    "        self.df = df\n",
    "        self.label_idx = [idx for idx, column in enumerate(self.df.columns) if not column.startswith('reactivity_error') and column.startswith('reactivity')]\n",
    "    \n",
    "    def __len__(self):\n",
    "        return len(self.df)\n",
    "    \n",
    "    def __getitem__(self, idx):\n",
    "        input_seq = self.df['sequence'].iloc[idx]\n",
    "        label_seq = self.df.iloc[idx, self.label_idx]\n",
    "        label_seq = torch.FloatTensor(label_seq)\n",
    "        \n",
    "        return input_seq, label_seq"
   ]
  },
  {
   "cell_type": "code",
   "execution_count": 13,
   "id": "84f8e76e",
   "metadata": {
    "execution": {
     "iopub.execute_input": "2023-11-03T19:46:08.232441Z",
     "iopub.status.busy": "2023-11-03T19:46:08.231828Z",
     "iopub.status.idle": "2023-11-03T19:46:08.236906Z",
     "shell.execute_reply": "2023-11-03T19:46:08.235907Z"
    },
    "papermill": {
     "duration": 0.053439,
     "end_time": "2023-11-03T19:46:08.239446",
     "exception": false,
     "start_time": "2023-11-03T19:46:08.186007",
     "status": "completed"
    },
    "tags": []
   },
   "outputs": [],
   "source": [
    "batch_size = 16"
   ]
  },
  {
   "cell_type": "code",
   "execution_count": 14,
   "id": "25c401da",
   "metadata": {
    "execution": {
     "iopub.execute_input": "2023-11-03T19:46:08.331408Z",
     "iopub.status.busy": "2023-11-03T19:46:08.330970Z",
     "iopub.status.idle": "2023-11-03T19:46:08.337214Z",
     "shell.execute_reply": "2023-11-03T19:46:08.336062Z"
    },
    "papermill": {
     "duration": 0.055746,
     "end_time": "2023-11-03T19:46:08.339492",
     "exception": false,
     "start_time": "2023-11-03T19:46:08.283746",
     "status": "completed"
    },
    "tags": []
   },
   "outputs": [],
   "source": [
    "train_loader = DataLoader(RNADataset(train), batch_size=batch_size, shuffle=True)\n",
    "val_loader = DataLoader(RNADataset(val), batch_size=batch_size, shuffle=True)"
   ]
  },
  {
   "cell_type": "code",
   "execution_count": 15,
   "id": "1864e397",
   "metadata": {
    "execution": {
     "iopub.execute_input": "2023-11-03T19:46:08.429572Z",
     "iopub.status.busy": "2023-11-03T19:46:08.428918Z",
     "iopub.status.idle": "2023-11-03T19:46:08.581263Z",
     "shell.execute_reply": "2023-11-03T19:46:08.579780Z"
    },
    "papermill": {
     "duration": 0.199977,
     "end_time": "2023-11-03T19:46:08.583731",
     "exception": false,
     "start_time": "2023-11-03T19:46:08.383754",
     "status": "completed"
    },
    "tags": []
   },
   "outputs": [
    {
     "name": "stdout",
     "output_type": "stream",
     "text": [
      "('GGGAACGACUCGAGUAGAGUCGAAAACGGUGAGUACAUCUUCGAGCGCAUUGAUUAUAGUGAUGCUGUAUCCUACAAGUCUAGUACAACGUAUAAACUGACUGUAGGUGACAUCUUCGUACUUACCCGAUAGCCGAUUGUUCGCAAUCGGCUAUCGAAAAGAAACAACAACAACAAC', 'GGGAACGACUCGAGUAGAGUCGAAAAGAUAUGGAAAUUGAAAUGUGCAAGGAACUCGGAAACGAGAAUUCUGAUGACCACAUCGUACGUUUCCUAAGUCAAAUCUCGCAUCUUCGGAUGCGAGAAAGGUUAACAGAUAGUUCGCUAUCUGUUAACCAAAAGAAACAACAACAACAAC', 'GGGAACGACUCGAGUAGAGUCGAAAACGAAGUCGGGAUCACAAUGUAUGGUCUGAUCAAUUGGGCACCUGAUGCAAGAGAGAACAGACUAGGGUACCAUUACGGGACUUCCAAGGCAGAAGGUAAACCUACGUUAGGGAUUCGUCCCUAACGUAGGAAAAGAAACAACAACAACAAC', 'GGGAACGACUCGAGUAGAGUCGAAAAGAUAUGGACGAACGUGAGUUGGGAGUUGCACCUCGGAAACGAGGUGUCAACUUUGAUCAACUCUCGUCCUAAGUCAAAGUACGCUCUUCGGAGCGUACAAGUGGAUAAGAUAGUUCGCUAUCUUAUCCACAAAAGAAACAACAACAACAAC', 'GGGAACGACUCGAGUAGAGUCGAAAAAUACCAGAAGGAGGUGUUCUAUUCACUCAGAGCACUGACACAGUGAAUCGUGAGUCCUUUAAGCUCUACGGUCAUGCUGUUGUGCCUUUUGGUUCUGCUGACAUCAUAUGGCCUUCGGGCCAUAUGAUGUAAAAGAAACAACAACAACAAC', 'GGGAACGACUCGAGUAGAGUCGAAAAGAAGUCGUGUCUUAGCUGAAACGAUACAACGCACGAGAUUCCAAGGUCUCUGUAGAACGACCGCUUGUGACGUCAUAGCUAUCACGUUCGACAUACGACAGGUAUGAUGUAGGUUCGCCUACAUCAUACCAAAAGAAACAACAACAACAAC', 'GGGAACGACUCGAGUAGAGUCGAAAAGAAUAUAAGAGCGCAGUAACUGUGAGAGCAAACUGCGCCCGGACUGUAGGAUCCGGUGGCACAGCAACGCUCACUCACAACACGCUGUGCCACGUGAAGACAUUAGCGGAUGCUUCGGCAUCCGCUAAUGAAAAGAAACAACAACAACAAC', 'GGGAACGACUCGAGUAGAGUCGAAAAUAGAUUUUGUGGAACAUGAUAUGUCACAUGCUGUCAAAGACGCAUCGCUAGUAUUGAUUUUAAGUGACCACUCAGAAUUUAAAAAUUUAUCGGACAGUCAACUGAAUCUCGGUUUCGACCGAGAUUCAGUAAAAGAAACAACAACAACAAC', 'GGGAACGACUCGAGUAGAGUCGAAAACUCAACAUCUCUAAUGAGUUUUCUAGCAAUGUUGCAAAUUACCAAAAAAUCGGUAUGCAGAAGUACUCUACACUCCAAGGACCACCUGGUACUGGUAAGACAUGUGGGAUACCUUCGGGUAUCCCACAUGAAAAGAAACAACAACAACAAC', 'GGGAACGACUCGAGUAGAGUCGAAAAAUCAUCCGUCAGUCUUCAUAAUAUUCUGAAUUAAAUUCGACAUGUAGGCAAUGAUACAGUAGCCAUUGUGAGUUAUCUGUGAAAUGAAAGCAUAAUAUGCCGUUUCUUAUGCAUUCGUGCAUAAGAAACGAAAAGAAACAACAACAACAAC', 'GGGAACGACUCGAGUAGAGUCGAAAAUAUGGCAUAUGUGACUGGUGGUCUUGUACAACAAACAACUCAGUGGUUAUCUAACAUGUUAGGUACCACUGUUGAAAAGCUCAAACCCGUGUUUACAUGGCAAGUACUAUUGCUUCGGCAAUAGUACUUGAAAAGAAACAACAACAACAAC', 'GGGAACGACUCGAGUAGAGUCGAAAAGAUAUGGAUCGGUGGGAGCUCGUCUUCGGAAACGAAGACAGAGCAUCGAUCACCAUCCUAAGUCAAAAGUCAAACACGCGCUUCGGCGCGUGUUUGACAAGAUUAACAAUGUGUUCGCACAUUGUUAAUCAAAAGAAACAACAACAACAAC', 'GGGAACGACUCGAGUAGAGUCGAAAACUUGCGCAAUGGGGAACGGCCGGAAUUGAAGCAUCUCAGUACGGCCAGGAAGAGAAAUCGAAUGAGACGCCGUUAGUAAUGGCGAAUGAACGCGGCACAGGAUUUAGCAGAUAUUCGUAUCUGCUAAAUCAAAAGAAACAACAACAACAAC', 'GGGAACGACUCGAGUAGAGUCGAAAAGAUAUGGACGACGGUCGAUGAAAGCAGCUACCCACCUCGGAAACGAGAGGCUGCUGGAGACCGUGUCGUCCUAAGUCAAAGCGGGUGUUCGCACCCGCAACGCUGGAAGAUAGUUCGCUAUCUUCCAGCGAAAAGAAACAACAACAACAAC', 'GGGAACGACUCGAGUAGAGUCGAAAAGAAGACGUGACGAAAAGUCACGAAAAGGUGCAAUGUCCUGUAAGCACCAAACACGGAAAAACCGUGACAGGACAAACGAGUGGGAGACCACUCGAAAAGAAUUAAAUUAGCCUUUCGAGGCUAAUUUAAUAAAAGAAACAACAACAACAAC', 'GGGAACGACUCGAGUAGAGUCGAAAACCAUGUGUGUGUGGUCGUGAUGCUACACAAUAUCUAGUACAACAAGAGUCUUCUUUUGUUAUGAUGUCUGCACCACCUGCUGAGUAUAAAUUACAGCAAGCGUAAUGUCCGUGUUCGCACGGACAUUACGAAAAGAAACAACAACAACAAC')\n",
      "tensor([[nan, nan, nan,  ..., nan, nan, nan],\n",
      "        [nan, nan, nan,  ..., nan, nan, nan],\n",
      "        [nan, nan, nan,  ..., nan, nan, nan],\n",
      "        ...,\n",
      "        [nan, nan, nan,  ..., nan, nan, nan],\n",
      "        [nan, nan, nan,  ..., nan, nan, nan],\n",
      "        [nan, nan, nan,  ..., nan, nan, nan]])\n"
     ]
    }
   ],
   "source": [
    "for inputs, labels in train_loader:\n",
    "    print(inputs)\n",
    "    print(labels)\n",
    "    break"
   ]
  }
 ],
 "metadata": {
  "kernelspec": {
   "display_name": "Python 3",
   "language": "python",
   "name": "python3"
  },
  "language_info": {
   "codemirror_mode": {
    "name": "ipython",
    "version": 3
   },
   "file_extension": ".py",
   "mimetype": "text/x-python",
   "name": "python",
   "nbconvert_exporter": "python",
   "pygments_lexer": "ipython3",
   "version": "3.10.12"
  },
  "papermill": {
   "default_parameters": {},
   "duration": 187.069261,
   "end_time": "2023-11-03T19:46:09.752487",
   "environment_variables": {},
   "exception": null,
   "input_path": "__notebook__.ipynb",
   "output_path": "__notebook__.ipynb",
   "parameters": {},
   "start_time": "2023-11-03T19:43:02.683226",
   "version": "2.4.0"
  }
 },
 "nbformat": 4,
 "nbformat_minor": 5
}
